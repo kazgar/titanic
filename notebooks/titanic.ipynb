{
 "cells": [
  {
   "cell_type": "markdown",
   "id": "0",
   "metadata": {},
   "source": [
    "# Setup & Imports"
   ]
  },
  {
   "cell_type": "code",
   "execution_count": null,
   "id": "1",
   "metadata": {},
   "outputs": [],
   "source": [
    "%load_ext autoreload\n",
    "%autoreload 2\n",
    "\n",
    "import matplotlib.colors as mcolors\n",
    "import matplotlib.pyplot as plt\n",
    "import numpy as np\n",
    "import pandas as pd\n",
    "import polars as pl\n",
    "\n",
    "from src.titanic.constants import PROJECT_ROOT\n",
    "\n",
    "DATA_DIR = PROJECT_ROOT / \"data\"\n",
    "RESULTS_DIR = PROJECT_ROOT / \"results\""
   ]
  },
  {
   "cell_type": "code",
   "execution_count": null,
   "id": "2",
   "metadata": {},
   "outputs": [],
   "source": [
    "df_train = pl.read_csv(DATA_DIR / \"train.csv\")"
   ]
  },
  {
   "cell_type": "code",
   "execution_count": null,
   "id": "3",
   "metadata": {},
   "outputs": [],
   "source": [
    "df_train"
   ]
  },
  {
   "cell_type": "markdown",
   "id": "4",
   "metadata": {},
   "source": [
    "# EDA (Exploratory Data Analysis)"
   ]
  },
  {
   "cell_type": "code",
   "execution_count": null,
   "id": "5",
   "metadata": {},
   "outputs": [],
   "source": [
    "c_map = \"cividis\"\n",
    "\n",
    "\n",
    "def get_colormap(df: pl.DataFrame, column: str = \"survival_mean\", cmap=c_map) -> list:\n",
    "    norm = mcolors.Normalize(vmin=df[column].min(), vmax=df[column].max())\n",
    "    cmap = plt.get_cmap(c_map)\n",
    "    return [cmap(norm(surv_rate)) for surv_rate in df[column].to_list()]\n",
    "\n",
    "\n",
    "def plot_barplot(\n",
    "    df: pl.DataFrame,\n",
    "    x: list,\n",
    "    y: list,\n",
    "    labels: list,\n",
    "    title: str,\n",
    "    xlabel: str,\n",
    "    different_labels: list | None = None,\n",
    "    fontsize: str = \"large\",\n",
    "    title_fontsize: str = \"xx-large\",\n",
    "    ylabel: str = \"Survival Mean\",\n",
    "    figsize: tuple[int, int] = (12, 6),\n",
    "    set_ylim: bool = True,\n",
    "    **kwargs,\n",
    "):\n",
    "    fig, ax = plt.subplots(figsize=figsize)\n",
    "\n",
    "    bars = ax.bar(x, y, label=labels, color=get_colormap(df, **kwargs))\n",
    "\n",
    "    if set_ylim:\n",
    "        ax.set_ylim(0, 1)\n",
    "\n",
    "    for i, bar in enumerate(bars):\n",
    "        plt.text(\n",
    "            bar.get_x() + bar.get_width() / 2,\n",
    "            bar.get_height(),\n",
    "            f\"{different_labels[i]:.2f}\" if different_labels else f\"{y[i]:.2f}\",\n",
    "            ha=\"center\",\n",
    "            va=\"bottom\",\n",
    "        )\n",
    "\n",
    "    ax.set_ylabel(ylabel)\n",
    "    ax.set_xlabel(xlabel)\n",
    "    ax.legend(title=title, title_fontsize=title_fontsize, fontsize=fontsize)\n",
    "\n",
    "    return ax"
   ]
  },
  {
   "cell_type": "markdown",
   "id": "6",
   "metadata": {},
   "source": [
    "#### Pclass"
   ]
  },
  {
   "cell_type": "code",
   "execution_count": null,
   "id": "7",
   "metadata": {},
   "outputs": [],
   "source": [
    "pclass_vs_survival_mean = (\n",
    "    df_train.group_by(pl.col(\"Pclass\"))\n",
    "    .all()\n",
    "    .with_columns(pl.col(\"Survived\").list.mean().alias(\"survival_mean\"))\n",
    "    .select(\"Pclass\", \"survival_mean\")\n",
    "    .sort(by=\"Pclass\", descending=False)\n",
    ")\n",
    "\n",
    "pclass = pclass_vs_survival_mean[\"Pclass\"].to_list()\n",
    "survivability = pclass_vs_survival_mean[\"survival_mean\"].to_list()\n",
    "pclass_bar_labels = pclass\n",
    "\n",
    "ax = plot_barplot(\n",
    "    df=pclass_vs_survival_mean,\n",
    "    x=pclass,\n",
    "    y=survivability,\n",
    "    labels=pclass_bar_labels,\n",
    "    title=\"Survival Rate across different Ticket Classes\",\n",
    "    xlabel=\"Ticket Class\",\n",
    "    fontsize=\"xx-large\",\n",
    ")\n",
    "\n",
    "ax.set_xticks(pclass)\n",
    "\n",
    "plt.show()"
   ]
  },
  {
   "cell_type": "code",
   "execution_count": null,
   "id": "8",
   "metadata": {},
   "outputs": [],
   "source": [
    "pclass_prevalence = df_train.get_column(\"Pclass\").value_counts().sort(by=\"Pclass\", descending=False)\n",
    "\n",
    "colors = get_colormap(pclass_prevalence, column=\"count\")\n",
    "\n",
    "fig, ax = plt.subplots(figsize=(12, 6))\n",
    "\n",
    "ax.bar(\n",
    "    pclass_prevalence[\"Pclass\"].cast(pl.String),\n",
    "    pclass_prevalence[\"count\"],\n",
    "    label=pclass_bar_labels,\n",
    "    color=colors,\n",
    ")\n",
    "ax.set_xlabel(\"Pclass\")\n",
    "ax.set_ylabel(\"Prevalence\")\n",
    "ax.legend(title=\"Pclass Distribution\", title_fontsize=\"xx-large\", fontsize=\"xx-large\")\n",
    "\n",
    "ax.set_ylim(0, df_train.height)\n",
    "\n",
    "plt.show()"
   ]
  },
  {
   "cell_type": "code",
   "execution_count": null,
   "id": "9",
   "metadata": {},
   "outputs": [],
   "source": [
    "\"\"\"Map Pclass values: 3 -> 1, 2 -> 2, and 1 -> 3 so that they are consistent with the increase in survivability rates.\"\"\""
   ]
  },
  {
   "cell_type": "markdown",
   "id": "10",
   "metadata": {},
   "source": [
    "#### Name"
   ]
  },
  {
   "cell_type": "code",
   "execution_count": null,
   "id": "11",
   "metadata": {},
   "outputs": [],
   "source": [
    "prefix_vs_survival_mean = (\n",
    "    df_train.with_columns(\n",
    "        pl.col(\"Name\").str.split(by=\".\").list.get(0).str.split(by=\" \").list.get(-1).alias(\"prefix\")\n",
    "    )\n",
    "    .group_by(pl.col(\"prefix\"))\n",
    "    .all()\n",
    "    .with_columns(\n",
    "        pl.col(\"prefix\"),\n",
    "        pl.col(\"Survived\").list.mean().alias(\"survival_mean\"),\n",
    "    )\n",
    "    .select(\"prefix\", \"survival_mean\")\n",
    "    .sort(by=\"survival_mean\", descending=False)\n",
    ")\n",
    "\n",
    "prefix_prevalence = (\n",
    "    df_train.with_columns(\n",
    "        pl.col(\"Name\").str.split(by=\".\").list.get(0).str.split(by=\" \").list.get(-1).alias(\"prefix\")\n",
    "    ).select(pl.col(\"prefix\").value_counts())\n",
    ").unnest(\"prefix\")\n",
    "\n",
    "prefixes = prefix_vs_survival_mean[\"prefix\"].to_list()\n",
    "survivability = prefix_vs_survival_mean[\"survival_mean\"].to_list()\n",
    "prevalence = [\n",
    "    prefix_prevalence.filter(pl.col(\"prefix\") == prefix).get_column(\"count\").first()\n",
    "    for prefix in prefixes\n",
    "]\n",
    "prefix_bar_labels = [prefix for prefix, surv_rate in zip(prefixes, survivability)]\n",
    "\n",
    "ax = plot_barplot(\n",
    "    df=prefix_vs_survival_mean,\n",
    "    x=prefixes,\n",
    "    y=prevalence,\n",
    "    labels=prefix_bar_labels,\n",
    "    different_labels=survivability,\n",
    "    title=\"Survival Rate across different Prefixes\",\n",
    "    ylabel=\"Prevalence\",\n",
    "    xlabel=\"Prefix\",\n",
    "    title_fontsize=\"x-large\",\n",
    "    fontsize=\"medium\",\n",
    "    figsize=(15, 6),\n",
    "    set_ylim=False,\n",
    ")\n",
    "\n",
    "plt.show()"
   ]
  },
  {
   "cell_type": "code",
   "execution_count": null,
   "id": "12",
   "metadata": {},
   "outputs": [],
   "source": [
    "\"\"\"Use one hot encoding to encode prefixes.\"\"\""
   ]
  },
  {
   "cell_type": "markdown",
   "id": "13",
   "metadata": {},
   "source": [
    "#### Sex"
   ]
  },
  {
   "cell_type": "code",
   "execution_count": null,
   "id": "14",
   "metadata": {},
   "outputs": [],
   "source": [
    "sex_vs_survival_mean = (\n",
    "    df_train.group_by(pl.col(\"Sex\"))\n",
    "    .all()\n",
    "    .with_columns(pl.col(\"Survived\").list.mean().alias(\"survival_mean\"))\n",
    "    .select(\"Sex\", \"survival_mean\")\n",
    "    .sort(by=\"survival_mean\", descending=True)\n",
    ")\n",
    "\n",
    "genders = sex_vs_survival_mean[\"Sex\"].to_list()\n",
    "survivability = sex_vs_survival_mean[\"survival_mean\"].to_list()\n",
    "sex_bar_labels = genders\n",
    "\n",
    "ax = plot_barplot(\n",
    "    df=sex_vs_survival_mean,\n",
    "    x=genders,\n",
    "    y=survivability,\n",
    "    labels=sex_bar_labels,\n",
    "    title=\"Survival Rate across different Genders\",\n",
    "    xlabel=\"Gender\",\n",
    "    fontsize=\"xx-large\",\n",
    ")\n",
    "\n",
    "plt.show()"
   ]
  },
  {
   "cell_type": "code",
   "execution_count": null,
   "id": "15",
   "metadata": {},
   "outputs": [],
   "source": [
    "sex_prevalence = df_train.get_column(\"Sex\").value_counts().sort(by=\"Sex\")\n",
    "\n",
    "colors = get_colormap(sex_prevalence, column=\"count\")\n",
    "\n",
    "fig, ax = plt.subplots(figsize=(12, 6))\n",
    "\n",
    "ax.bar(sex_prevalence[\"Sex\"], sex_prevalence[\"count\"], label=sex_bar_labels, color=colors)\n",
    "ax.set_xlabel(\"Sex\")\n",
    "ax.set_ylabel(\"Prevalence\")\n",
    "ax.legend(title=\"Sex Distribution\", title_fontsize=\"xx-large\", fontsize=\"xx-large\")\n",
    "\n",
    "ax.set_ylim(0, df_train.height)\n",
    "\n",
    "plt.show()"
   ]
  },
  {
   "cell_type": "code",
   "execution_count": null,
   "id": "16",
   "metadata": {},
   "outputs": [],
   "source": [
    "\"\"\"Encode gender in a binary column where female = 1 and male = 0 to maintain the meaningful difference in survival rates.\"\"\""
   ]
  },
  {
   "cell_type": "markdown",
   "id": "17",
   "metadata": {},
   "source": [
    "#### Age"
   ]
  },
  {
   "cell_type": "code",
   "execution_count": null,
   "id": "18",
   "metadata": {},
   "outputs": [],
   "source": [
    "jump = 10\n",
    "age_grouping = {f\"{i*jump}-{i*jump+jump}\": i for i in range(int(df_train[\"Age\"].max() + 1) // jump)}\n",
    "\n",
    "\n",
    "def map_age(age):\n",
    "    for grp in age_grouping.keys():\n",
    "        upper = float(grp.split(\"-\")[-1])\n",
    "        if float(age) <= upper:\n",
    "            return age_grouping[grp]\n",
    "\n",
    "\n",
    "age_group_vs_survival_mean = (\n",
    "    df_train.with_columns(\n",
    "        pl.col(\"Age\").map_elements(map_age, return_dtype=pl.Int8).alias(\"age_group\")\n",
    "    )\n",
    "    .group_by(pl.col(\"age_group\"))\n",
    "    .all()\n",
    "    .with_columns(pl.col(\"Survived\").list.mean().alias(\"survival_mean\"))\n",
    "    .select(pl.col(\"age_group\"), pl.col(\"survival_mean\"))\n",
    "    .sort(by=\"age_group\", descending=False)\n",
    ")\n",
    "\n",
    "age_groups = age_group_vs_survival_mean[\"age_group\"].to_list()\n",
    "age_groups[0] = -1\n",
    "survivability = age_group_vs_survival_mean[\"survival_mean\"].to_list()\n",
    "age_bar_labels = [\"Unknown\"] + [grp for grp in age_grouping.keys()]\n",
    "\n",
    "ax = plot_barplot(\n",
    "    df=age_group_vs_survival_mean,\n",
    "    x=age_groups,\n",
    "    y=survivability,\n",
    "    labels=age_bar_labels,\n",
    "    title=\"Survival Rate across different Age Groups\",\n",
    "    xlabel=\"Age Group\",\n",
    "    fontsize=\"medium\",\n",
    ")\n",
    "\n",
    "ax.set_xticks(age_groups)\n",
    "ax.set_xticklabels(age_bar_labels)\n",
    "\n",
    "plt.show()"
   ]
  },
  {
   "cell_type": "code",
   "execution_count": null,
   "id": "19",
   "metadata": {},
   "outputs": [],
   "source": [
    "age_group_prevalence = (\n",
    "    df_train.with_columns(\n",
    "        pl.col(\"Age\").map_elements(map_age, return_dtype=pl.Int8).alias(\"age_group\")\n",
    "    )\n",
    "    .get_column(\"age_group\")\n",
    "    .value_counts()\n",
    "    .sort(by=\"age_group\", descending=False)\n",
    ")\n",
    "\n",
    "colors = get_colormap(age_group_prevalence, column=\"count\")\n",
    "\n",
    "fig, ax = plt.subplots(figsize=(12, 6))\n",
    "\n",
    "ax.bar(\n",
    "    age_group_prevalence[\"age_group\"],\n",
    "    age_group_prevalence[\"count\"],\n",
    "    label=age_bar_labels,\n",
    "    color=colors,\n",
    ")\n",
    "ax.set_xlabel(\"Age Group\")\n",
    "ax.set_ylabel(\"Prevalence\")\n",
    "ax.set_xticks([age_group + 1 for age_group in age_groups])\n",
    "ax.set_xticklabels(age_bar_labels)\n",
    "ax.legend(title=\"Age Distribution\", title_fontsize=\"xx-large\", fontsize=\"x-large\")\n",
    "\n",
    "ax.set_ylim(0, df_train.height)\n",
    "\n",
    "plt.show()"
   ]
  },
  {
   "cell_type": "code",
   "execution_count": null,
   "id": "20",
   "metadata": {},
   "outputs": [],
   "source": [
    "\"\"\"Split into age categories (every 10 years), fill the nulls with median value for age.\"\"\""
   ]
  },
  {
   "cell_type": "markdown",
   "id": "21",
   "metadata": {},
   "source": [
    "#### SibSp"
   ]
  },
  {
   "cell_type": "code",
   "execution_count": null,
   "id": "22",
   "metadata": {},
   "outputs": [],
   "source": [
    "sibsp_vs_survival_mean = (\n",
    "    df_train.group_by(pl.col(\"SibSp\"))\n",
    "    .all()\n",
    "    .with_columns(pl.col(\"Survived\").list.mean().alias(\"survival_mean\"))\n",
    "    .select(pl.col(\"SibSp\"), pl.col(\"survival_mean\"))\n",
    "    .sort(by=\"SibSp\", descending=False)\n",
    ")\n",
    "\n",
    "sibsp_sizes = sibsp_vs_survival_mean[\"SibSp\"].to_list()\n",
    "survivability = sibsp_vs_survival_mean[\"survival_mean\"].to_list()\n",
    "sibsp_bar_labels = sibsp_sizes\n",
    "\n",
    "ax = plot_barplot(\n",
    "    df=sibsp_vs_survival_mean,\n",
    "    x=sibsp_sizes,\n",
    "    y=survivability,\n",
    "    labels=sibsp_bar_labels,\n",
    "    title=\"Survival Rate across different SibSp values\",\n",
    "    xlabel=\"SibSp\",\n",
    "    fontsize=\"x-large\",\n",
    ")\n",
    "\n",
    "ax.set_xticks(sibsp_sizes)\n",
    "\n",
    "plt.show()"
   ]
  },
  {
   "cell_type": "code",
   "execution_count": null,
   "id": "23",
   "metadata": {},
   "outputs": [],
   "source": [
    "sibsp_prevalence = df_train.get_column(\"SibSp\").value_counts().sort(by=\"SibSp\", descending=False)\n",
    "\n",
    "colors = get_colormap(sibsp_prevalence, column=\"count\")\n",
    "\n",
    "fig, ax = plt.subplots(figsize=(12, 6))\n",
    "\n",
    "ax.bar(\n",
    "    sibsp_prevalence[\"SibSp\"].cast(pl.String),\n",
    "    sibsp_prevalence[\"count\"],\n",
    "    label=sibsp_bar_labels,\n",
    "    color=colors,\n",
    ")\n",
    "ax.set_xlabel(\"SibSp\")\n",
    "ax.set_ylabel(\"Prevalence\")\n",
    "ax.legend(title=\"SibSp Distribution\", title_fontsize=\"xx-large\", fontsize=\"xx-large\")\n",
    "\n",
    "ax.set_ylim(0, df_train.height)\n",
    "\n",
    "plt.show()"
   ]
  },
  {
   "cell_type": "markdown",
   "id": "24",
   "metadata": {},
   "source": [
    "#### Parch"
   ]
  },
  {
   "cell_type": "code",
   "execution_count": null,
   "id": "25",
   "metadata": {},
   "outputs": [],
   "source": [
    "parch_vs_survival_mean = (\n",
    "    df_train.group_by(pl.col(\"Parch\"))\n",
    "    .all()\n",
    "    .with_columns(pl.col(\"Survived\").list.mean().alias(\"survival_mean\"))\n",
    "    .select(pl.col(\"Parch\"), pl.col(\"survival_mean\"))\n",
    "    .sort(by=\"Parch\", descending=False)\n",
    ")\n",
    "\n",
    "parch_sizes = parch_vs_survival_mean[\"Parch\"].to_list()\n",
    "survivability = parch_vs_survival_mean[\"survival_mean\"].to_list()\n",
    "parch_bar_labels = parch_sizes\n",
    "\n",
    "ax = plot_barplot(\n",
    "    df=parch_vs_survival_mean,\n",
    "    x=parch_sizes,\n",
    "    y=survivability,\n",
    "    labels=parch_bar_labels,\n",
    "    title=\"Survival Rate across different Parch values\",\n",
    "    xlabel=\"Parch\",\n",
    ")\n",
    "\n",
    "ax.set_xticks(parch_sizes)\n",
    "\n",
    "plt.show()"
   ]
  },
  {
   "cell_type": "code",
   "execution_count": null,
   "id": "26",
   "metadata": {},
   "outputs": [],
   "source": [
    "parch_prevalence = df_train.get_column(\"Parch\").value_counts().sort(by=\"Parch\", descending=False)\n",
    "\n",
    "colors = get_colormap(parch_prevalence, column=\"count\")\n",
    "\n",
    "fig, ax = plt.subplots(figsize=(12, 6))\n",
    "\n",
    "ax.bar(\n",
    "    parch_prevalence[\"Parch\"].cast(pl.String),\n",
    "    parch_prevalence[\"count\"],\n",
    "    label=parch_bar_labels,\n",
    "    color=colors,\n",
    ")\n",
    "ax.set_xlabel(\"Parch\")\n",
    "ax.set_ylabel(\"Prevalence\")\n",
    "ax.legend(title=\"Parch Distribution\", title_fontsize=\"xx-large\", fontsize=\"xx-large\")\n",
    "\n",
    "ax.set_ylim(0, df_train.height)\n",
    "\n",
    "plt.show()"
   ]
  },
  {
   "cell_type": "markdown",
   "id": "27",
   "metadata": {},
   "source": [
    "#### Family Size"
   ]
  },
  {
   "cell_type": "code",
   "execution_count": null,
   "id": "28",
   "metadata": {},
   "outputs": [],
   "source": [
    "family_size_vs_survival_mean = (\n",
    "    df_train.with_columns((pl.col(\"SibSp\") + pl.col(\"Parch\")).alias(\"family_size\"))\n",
    "    .group_by(pl.col(\"family_size\"))\n",
    "    .all()\n",
    "    .with_columns(pl.col(\"Survived\").list.mean().alias(\"survival_mean\"))\n",
    "    .select(pl.col(\"family_size\"), pl.col(\"survival_mean\"))\n",
    "    .sort(by=\"family_size\", descending=False)\n",
    ")\n",
    "\n",
    "family_sizes = family_size_vs_survival_mean[\"family_size\"].to_list()\n",
    "survivability = family_size_vs_survival_mean[\"survival_mean\"].to_list()\n",
    "family_bar_labels = family_sizes\n",
    "\n",
    "ax = plot_barplot(\n",
    "    df=family_size_vs_survival_mean,\n",
    "    x=family_sizes,\n",
    "    y=survivability,\n",
    "    labels=family_bar_labels,\n",
    "    title=\"Survival Rate across different Family Sizes\",\n",
    "    xlabel=\"Family Size\",\n",
    ")\n",
    "\n",
    "ax.set_xticks(family_sizes)\n",
    "\n",
    "plt.show()"
   ]
  },
  {
   "cell_type": "code",
   "execution_count": null,
   "id": "29",
   "metadata": {},
   "outputs": [],
   "source": [
    "family_size_prevalence = (\n",
    "    df_train.with_columns((pl.col(\"SibSp\") + pl.col(\"Parch\")).alias(\"family_size\"))\n",
    "    .get_column(\"family_size\")\n",
    "    .value_counts()\n",
    "    .sort(by=\"family_size\", descending=False)\n",
    ")\n",
    "\n",
    "colors = get_colormap(family_size_prevalence, column=\"count\")\n",
    "\n",
    "fig, ax = plt.subplots(figsize=(12, 6))\n",
    "\n",
    "ax.bar(\n",
    "    family_size_prevalence[\"family_size\"].cast(pl.String),\n",
    "    family_size_prevalence[\"count\"],\n",
    "    label=family_bar_labels,\n",
    "    color=colors,\n",
    ")\n",
    "ax.set_xlabel(\"Family Size\")\n",
    "ax.set_ylabel(\"Prevalence\")\n",
    "ax.legend(title=\"Family Size Distribution\", title_fontsize=\"xx-large\", fontsize=\"xx-large\")\n",
    "\n",
    "ax.set_ylim(0, df_train.height)\n",
    "\n",
    "plt.show()"
   ]
  },
  {
   "cell_type": "code",
   "execution_count": null,
   "id": "30",
   "metadata": {},
   "outputs": [],
   "source": [
    "\"\"\"Combine SibSp and Parch to one family_size feature with 0 as no family on board, 1 for 1, 2, 3 family members, and 2 for > 3.\"\"\""
   ]
  },
  {
   "cell_type": "markdown",
   "id": "31",
   "metadata": {},
   "source": [
    "#### Fare"
   ]
  },
  {
   "cell_type": "code",
   "execution_count": null,
   "id": "32",
   "metadata": {},
   "outputs": [],
   "source": [
    "fig, ax = plt.subplots(figsize=(12, 6))\n",
    "\n",
    "fare_prevalence = df_train.get_column(\"Fare\").value_counts().sort(by=\"Fare\", descending=False)\n",
    "\n",
    "colors = get_colormap(fare_prevalence, column=\"Fare\")\n",
    "\n",
    "ax.scatter(x=fare_prevalence[\"Fare\"], y=fare_prevalence[\"count\"], color=colors)\n",
    "\n",
    "plt.show()"
   ]
  },
  {
   "cell_type": "code",
   "execution_count": null,
   "id": "33",
   "metadata": {},
   "outputs": [],
   "source": [
    "fare_jump = 30\n",
    "fare_mapping = {\n",
    "    f\"{i*fare_jump}-{(i+1)*fare_jump}\": i\n",
    "    for i in range(0, int((df_train[\"Fare\"].max() + (fare_jump - 1)) // fare_jump))\n",
    "}\n",
    "\n",
    "\n",
    "def group_fare(price):\n",
    "    for bracket in fare_mapping.keys():\n",
    "        if price <= float(bracket.split(\"-\")[-1]):\n",
    "            return fare_mapping[bracket]\n",
    "\n",
    "\n",
    "fare_groups_df = df_train.with_columns(\n",
    "    pl.col(\"Fare\").map_elements(group_fare, return_dtype=pl.Int8).alias(\"fare_group\")\n",
    ")\n",
    "\n",
    "fare_groups_vs_survival_mean = (\n",
    "    fare_groups_df.group_by(pl.col(\"fare_group\"))\n",
    "    .all()\n",
    "    .with_columns(\n",
    "        pl.col(\"Survived\").list.mean().alias(\"survival_mean\"),\n",
    "    )\n",
    "    .select(pl.col(\"fare_group\"), pl.col(\"survival_mean\"))\n",
    "    .sort(by=\"fare_group\", descending=False)\n",
    ")\n",
    "\n",
    "fare_groups = fare_groups_vs_survival_mean[\"fare_group\"].to_list()\n",
    "survivability = fare_groups_vs_survival_mean[\"survival_mean\"].to_list()\n",
    "fare_groups_bar_labels = fare_groups\n",
    "\n",
    "ax = plot_barplot(\n",
    "    df=fare_groups_vs_survival_mean,\n",
    "    x=fare_groups,\n",
    "    y=survivability,\n",
    "    labels=fare_groups_bar_labels,\n",
    "    title=\"Survival Rate across different Fare Groups\",\n",
    "    xlabel=\"Fare Group\",\n",
    "    title_fontsize=\"x-large\",\n",
    "    fontsize=\"large\",\n",
    ")\n",
    "\n",
    "ax.set_xticks(fare_groups_bar_labels)\n",
    "\n",
    "plt.show()"
   ]
  },
  {
   "cell_type": "code",
   "execution_count": null,
   "id": "34",
   "metadata": {},
   "outputs": [],
   "source": [
    "fare_groups_prevalence = (\n",
    "    fare_groups_df.get_column(\"fare_group\").value_counts().sort(by=\"fare_group\", descending=False)\n",
    ")\n",
    "\n",
    "colors = get_colormap(fare_groups_prevalence, column=\"count\")\n",
    "\n",
    "fig, ax = plt.subplots(figsize=(12, 6))\n",
    "\n",
    "ax.bar(\n",
    "    fare_groups_prevalence[\"fare_group\"].cast(pl.String),\n",
    "    fare_groups_prevalence[\"count\"],\n",
    "    label=fare_groups_bar_labels,\n",
    "    color=colors,\n",
    ")\n",
    "ax.set_xlabel(\"Fare Group\")\n",
    "ax.set_ylabel(\"Prevalence\")\n",
    "ax.legend(title=\"Fare Group Distribution\", title_fontsize=\"xx-large\", fontsize=\"xx-large\")\n",
    "\n",
    "ax.set_ylim(0, df_train.height)\n",
    "\n",
    "plt.show()"
   ]
  },
  {
   "cell_type": "code",
   "execution_count": null,
   "id": "35",
   "metadata": {},
   "outputs": [],
   "source": [
    "\"\"\"Transform into categorical variable with groups every 30 price units paid for fare. Then do one hot encoding.\"\"\""
   ]
  },
  {
   "cell_type": "markdown",
   "id": "36",
   "metadata": {},
   "source": [
    "#### Cabin"
   ]
  },
  {
   "cell_type": "code",
   "execution_count": null,
   "id": "37",
   "metadata": {},
   "outputs": [],
   "source": [
    "cabin_binary = df_train.with_columns(\n",
    "    pl.when(pl.col(\"Cabin\").is_null()).then(0).otherwise(1).alias(\"has_cabin\")\n",
    ")\n",
    "\n",
    "cabin_vs_survival_mean = (\n",
    "    cabin_binary.group_by(\"has_cabin\")\n",
    "    .all()\n",
    "    .with_columns(\n",
    "        pl.col(\"Survived\").list.mean().alias(\"survival_mean\"),\n",
    "    )\n",
    "    .select(pl.col(\"has_cabin\"), pl.col(\"survival_mean\"))\n",
    "    .sort(by=\"has_cabin\", descending=False)\n",
    ")\n",
    "\n",
    "ax = plot_barplot(\n",
    "    df=cabin_vs_survival_mean,\n",
    "    x=cabin_vs_survival_mean[\"has_cabin\"].to_list(),\n",
    "    y=cabin_vs_survival_mean[\"survival_mean\"].to_list(),\n",
    "    labels=cabin_vs_survival_mean[\"has_cabin\"].to_list(),\n",
    "    title=\"Survival Rate for (not) having a Cabin\",\n",
    "    xlabel=\"Has Cabin\",\n",
    "    title_fontsize=\"xx-large\",\n",
    "    fontsize=\"xx-large\",\n",
    ")\n",
    "\n",
    "ax.set_xticks(cabin_vs_survival_mean[\"has_cabin\"])\n",
    "\n",
    "plt.show()"
   ]
  },
  {
   "cell_type": "code",
   "execution_count": null,
   "id": "38",
   "metadata": {},
   "outputs": [],
   "source": [
    "cabin_prevalence = (\n",
    "    cabin_binary.get_column(\"has_cabin\").value_counts().sort(by=\"has_cabin\", descending=False)\n",
    ")\n",
    "\n",
    "colors = get_colormap(cabin_prevalence, column=\"count\")\n",
    "\n",
    "fig, ax = plt.subplots(figsize=(12, 6))\n",
    "\n",
    "ax.bar(\n",
    "    cabin_prevalence[\"has_cabin\"].cast(pl.String),\n",
    "    cabin_prevalence[\"count\"],\n",
    "    label=cabin_prevalence[\"has_cabin\"].to_list(),\n",
    "    color=colors,\n",
    ")\n",
    "ax.set_xlabel(\"Has Cabin\")\n",
    "ax.set_ylabel(\"Prevalence\")\n",
    "ax.legend(title=\"Has Cabin Distribution\", title_fontsize=\"xx-large\", fontsize=\"xx-large\")\n",
    "\n",
    "ax.set_ylim(0, df_train.height)\n",
    "\n",
    "plt.show()"
   ]
  },
  {
   "cell_type": "code",
   "execution_count": null,
   "id": "39",
   "metadata": {},
   "outputs": [],
   "source": [
    "\"\"\"Transform into binary feature 0 -> does not have cabin, 1 -> has cabin.\"\"\""
   ]
  },
  {
   "cell_type": "markdown",
   "id": "40",
   "metadata": {},
   "source": [
    "#### Embarked"
   ]
  },
  {
   "cell_type": "code",
   "execution_count": null,
   "id": "41",
   "metadata": {},
   "outputs": [],
   "source": [
    "embarked_vs_survival_mean = (\n",
    "    df_train.filter(~pl.col(\"Embarked\").is_null())\n",
    "    .group_by(pl.col(\"Embarked\"))\n",
    "    .all()\n",
    "    .with_columns(\n",
    "        pl.col(\"Survived\").list.mean().alias(\"survival_mean\"),\n",
    "    )\n",
    "    .select(pl.col(\"Embarked\"), pl.col(\"survival_mean\"))\n",
    "    .sort(by=\"Embarked\", descending=True)\n",
    ")\n",
    "\n",
    "ports = embarked_vs_survival_mean[\"Embarked\"].to_list()\n",
    "survivability = embarked_vs_survival_mean[\"survival_mean\"].to_list()\n",
    "port_bar_labels = ports\n",
    "\n",
    "ax = plot_barplot(\n",
    "    df=embarked_vs_survival_mean,\n",
    "    x=ports,\n",
    "    y=survivability,\n",
    "    labels=port_bar_labels,\n",
    "    title=\"Survival Rate across different Ports\",\n",
    "    xlabel=\"Embarked\",\n",
    "    title_fontsize=\"xx-large\",\n",
    "    fontsize=\"xx-large\",\n",
    ")\n",
    "\n",
    "plt.show()"
   ]
  },
  {
   "cell_type": "code",
   "execution_count": null,
   "id": "42",
   "metadata": {},
   "outputs": [],
   "source": [
    "embarked_prevalence = (\n",
    "    df_train.filter(~pl.col(\"Embarked\").is_null())\n",
    "    .get_column(\"Embarked\")\n",
    "    .value_counts()\n",
    "    .sort(by=\"Embarked\", descending=True)\n",
    ")\n",
    "\n",
    "colors = get_colormap(embarked_prevalence, column=\"count\")\n",
    "\n",
    "fig, ax = plt.subplots(figsize=(12, 6))\n",
    "\n",
    "ax.bar(\n",
    "    embarked_prevalence[\"Embarked\"].cast(pl.String),\n",
    "    embarked_prevalence[\"count\"],\n",
    "    label=port_bar_labels,\n",
    "    color=colors,\n",
    ")\n",
    "ax.set_xlabel(\"Embarked\")\n",
    "ax.set_ylabel(\"Prevalence\")\n",
    "ax.legend(title=\"Embarked Distribution\", title_fontsize=\"xx-large\", fontsize=\"xx-large\")\n",
    "\n",
    "ax.set_ylim(0, df_train.height)\n",
    "\n",
    "plt.show()"
   ]
  },
  {
   "cell_type": "code",
   "execution_count": null,
   "id": "43",
   "metadata": {},
   "outputs": [],
   "source": [
    "\"\"\"Leave categorical, do one hot encoding.\"\"\""
   ]
  },
  {
   "cell_type": "markdown",
   "id": "44",
   "metadata": {},
   "source": [
    "#### Ticket"
   ]
  },
  {
   "cell_type": "code",
   "execution_count": null,
   "id": "45",
   "metadata": {},
   "outputs": [],
   "source": [
    "\"\"\"Drop the ticket feature, carries too much irrelevant data which implies the risk of confusing the models.\"\"\""
   ]
  },
  {
   "cell_type": "code",
   "execution_count": null,
   "id": "46",
   "metadata": {},
   "outputs": [],
   "source": [
    "df_train.null_count()"
   ]
  },
  {
   "cell_type": "code",
   "execution_count": null,
   "id": "47",
   "metadata": {},
   "outputs": [],
   "source": [
    "\"\"\"We will impute the 'Age' for the median of the sex group, the 'Cabin' will be transformed into binary cabin/no cabin and 'Embarked' will be imputed with the most frequent value.\"\"\""
   ]
  },
  {
   "cell_type": "markdown",
   "id": "48",
   "metadata": {},
   "source": [
    "# Data Preparation"
   ]
  },
  {
   "cell_type": "code",
   "execution_count": null,
   "id": "49",
   "metadata": {},
   "outputs": [],
   "source": [
    "def pclass_mapping(pclass):\n",
    "    mapping_dict = {3: 0, 2: 1, 1: 2}\n",
    "    return mapping_dict[pclass]\n",
    "\n",
    "\n",
    "def age_mapping(age, jump: int = 10):\n",
    "    for i in range(int((df_train[\"Age\"].max() + 1) // jump)):\n",
    "        if age <= ((i + 1) * jump):\n",
    "            return i\n",
    "\n",
    "\n",
    "def fare_mapping(price, jump: int = 30):\n",
    "    for i in range(int((df_train[\"Fare\"].max() + (jump - 1)) // jump)):\n",
    "        if price <= ((i + 1) * jump):\n",
    "            return i\n",
    "\n",
    "\n",
    "female_age_median = df_train.filter(pl.col(\"Sex\") == \"female\").get_column(\"Age\").mean()\n",
    "male_age_median = df_train.filter(pl.col(\"Sex\") == \"male\").get_column(\"Age\").mean()"
   ]
  },
  {
   "cell_type": "code",
   "execution_count": null,
   "id": "50",
   "metadata": {},
   "outputs": [],
   "source": [
    "from sklearn.base import BaseEstimator, TransformerMixin\n",
    "\n",
    "\n",
    "class AttributeTransformer(BaseEstimator, TransformerMixin):\n",
    "    def __init__(self):\n",
    "        pass\n",
    "\n",
    "    def fit(self, X, y=None):\n",
    "        return self\n",
    "\n",
    "    def transform(self, X):\n",
    "        X = X.with_columns(\n",
    "            pl.when(pl.col(\"Age\").is_null() & (pl.col(\"Sex\") == \"female\"))\n",
    "            .then(female_age_median)\n",
    "            .when(pl.col(\"Age\").is_null() & (pl.col(\"Sex\") == \"male\"))\n",
    "            .then(male_age_median)\n",
    "            .otherwise(pl.col(\"Age\"))\n",
    "            .alias(\"Age\")\n",
    "        )\n",
    "\n",
    "        columns_to_keep = [\"Embarked\"]\n",
    "        columns_to_drop = [col for col in X.columns if col not in columns_to_keep]\n",
    "\n",
    "        X = X.with_columns(\n",
    "            p_class=pl.col(\"Pclass\").map_elements(pclass_mapping, return_dtype=pl.Int8),\n",
    "            prefix=pl.col(\"Name\").str.split(by=\".\").list.get(0).str.split(by=\" \").list.get(-1),\n",
    "            gender=pl.when(pl.col(\"Sex\") == \"male\").then(0).otherwise(1),\n",
    "            age_group=pl.col(\"Age\").map_elements(age_mapping, return_dtype=pl.Int8),\n",
    "            family_size=(\n",
    "                pl.when((pl.col(\"SibSp\") + pl.col(\"Parch\")) == 0)\n",
    "                .then(0)\n",
    "                .when((pl.col(\"SibSp\") + pl.col(\"Parch\")).is_in([1, 2, 3]))\n",
    "                .then(1)\n",
    "                .otherwise(2)\n",
    "            ),\n",
    "            fare_group=pl.col(\"Fare\").map_elements(fare_mapping, return_dtype=pl.Int8),\n",
    "            has_cabin=pl.when(pl.col(\"Cabin\").is_null()).then(0).otherwise(1),\n",
    "        ).drop(\n",
    "            columns_to_drop,\n",
    "        )\n",
    "        return X"
   ]
  },
  {
   "cell_type": "code",
   "execution_count": null,
   "id": "51",
   "metadata": {},
   "outputs": [],
   "source": [
    "from sklearn.compose import ColumnTransformer\n",
    "from sklearn.impute import SimpleImputer\n",
    "from sklearn.pipeline import Pipeline\n",
    "from sklearn.preprocessing import OneHotEncoder\n",
    "\n",
    "cat_features_to_ohe = [\"prefix\", \"age_group\", \"Embarked\", \"family_size\", \"fare_group\"]\n",
    "\n",
    "cat_ohe_pipeline = Pipeline(\n",
    "    [\n",
    "        (\"one_hot_encoder\", OneHotEncoder(sparse_output=False, handle_unknown=\"ignore\")),\n",
    "        (\"imputer\", SimpleImputer(strategy=\"most_frequent\")),\n",
    "    ]\n",
    ")\n",
    "\n",
    "full_pipeline = Pipeline(\n",
    "    steps=[\n",
    "        (\"attr_transformer\", AttributeTransformer()),\n",
    "        (\n",
    "            \"encoder\",\n",
    "            ColumnTransformer(\n",
    "                transformers=[\n",
    "                    (\"encode_ohe\", cat_ohe_pipeline, cat_features_to_ohe),\n",
    "                ],\n",
    "                remainder=\"passthrough\",\n",
    "            ),\n",
    "        ),\n",
    "    ]\n",
    ")"
   ]
  },
  {
   "cell_type": "code",
   "execution_count": null,
   "id": "52",
   "metadata": {},
   "outputs": [],
   "source": [
    "from sklearn.model_selection import train_test_split\n",
    "\n",
    "random_state = 42\n",
    "\n",
    "X = df_train.drop(\"Survived\")\n",
    "y = df_train[\"Survived\"]\n",
    "\n",
    "X_train, X_val, y_train, y_val = train_test_split(\n",
    "    X, y, test_size=0.2, random_state=random_state, stratify=y\n",
    ")"
   ]
  },
  {
   "cell_type": "code",
   "execution_count": null,
   "id": "53",
   "metadata": {},
   "outputs": [],
   "source": [
    "fitted_pipeline = full_pipeline.fit(X_train)\n",
    "\n",
    "X_train_transformed = fitted_pipeline.transform(X_train)\n",
    "X_val_transformed = fitted_pipeline.transform(X_val)"
   ]
  },
  {
   "cell_type": "code",
   "execution_count": null,
   "id": "54",
   "metadata": {},
   "outputs": [],
   "source": [
    "from sklearn.ensemble import RandomForestClassifier\n",
    "from sklearn.model_selection import GridSearchCV\n",
    "\n",
    "rf_param_grid = {\n",
    "    \"n_estimators\": [10, 13, 15, 20],\n",
    "    \"criterion\": [\"gini\", \"entropy\"],\n",
    "    \"max_depth\": [10, 15, 20, 30, 50],\n",
    "    \"min_samples_split\": [2, 3, 4, 5, 10],\n",
    "    \"min_samples_leaf\": [1, 2, 3, 5],\n",
    "    \"max_features\": [\"sqrt\", \"log2\"],\n",
    "}\n",
    "\n",
    "rf_grid_search = GridSearchCV(\n",
    "    estimator=RandomForestClassifier(),\n",
    "    param_grid=rf_param_grid,\n",
    "    scoring=\"accuracy\",\n",
    "    n_jobs=-1,\n",
    "    cv=20,\n",
    "    verbose=1,\n",
    ").fit(X_train_transformed, y_train)"
   ]
  },
  {
   "cell_type": "code",
   "execution_count": null,
   "id": "55",
   "metadata": {},
   "outputs": [],
   "source": [
    "print(rf_grid_search.best_score_)\n",
    "print(rf_grid_search.best_params_)"
   ]
  },
  {
   "cell_type": "code",
   "execution_count": null,
   "id": "56",
   "metadata": {},
   "outputs": [],
   "source": [
    "from sklearn.model_selection import cross_val_score\n",
    "\n",
    "rf_clf = rf_grid_search.best_estimator_\n",
    "\n",
    "rf_scores = cross_val_score(rf_clf, X_val_transformed, y_val, cv=10, scoring=\"accuracy\")\n",
    "\n",
    "print(rf_scores.mean())"
   ]
  },
  {
   "cell_type": "code",
   "execution_count": null,
   "id": "57",
   "metadata": {},
   "outputs": [],
   "source": [
    "from sklearn.metrics import accuracy_score\n",
    "\n",
    "rf_preds = rf_clf.predict(X_test_transformed)\n",
    "rf_score_test = accuracy_score(rf_preds, y_test)\n",
    "print(f\"Random Forest score on test set: {rf_score_test:.3f}\")"
   ]
  },
  {
   "cell_type": "code",
   "execution_count": null,
   "id": "58",
   "metadata": {},
   "outputs": [],
   "source": [
    "from sklearn.linear_model import LogisticRegression\n",
    "\n",
    "lr_param_grid = {\n",
    "    \"penalty\": [\"l1\", \"l2\", \"elasticnet\"],\n",
    "    \"tol\": [0.001, 0.01, 0.1, 1],\n",
    "    \"C\": [0.1, 1, 10, 20, 30, 40, 50, 100],\n",
    "    \"solver\": [\"liblinear\", \"sag\", \"saga\"],\n",
    "    \"max_iter\": [1000, 1500, 2000],\n",
    "}\n",
    "\n",
    "lr_grid_search = GridSearchCV(\n",
    "    estimator=LogisticRegression(),\n",
    "    param_grid=lr_param_grid,\n",
    "    scoring=\"accuracy\",\n",
    "    n_jobs=-1,\n",
    "    cv=20,\n",
    "    verbose=1,\n",
    ").fit(X_train_transformed, y_train)"
   ]
  },
  {
   "cell_type": "code",
   "execution_count": null,
   "id": "59",
   "metadata": {},
   "outputs": [],
   "source": [
    "print(lr_grid_search.best_score_)\n",
    "print(lr_grid_search.best_params_)"
   ]
  },
  {
   "cell_type": "code",
   "execution_count": null,
   "id": "60",
   "metadata": {},
   "outputs": [],
   "source": [
    "lr_clf = lr_grid_search.best_estimator_\n",
    "\n",
    "lr_scores = cross_val_score(lr_clf, X_val_transformed, y_val, cv=10, scoring=\"accuracy\")\n",
    "\n",
    "print(lr_scores.mean())"
   ]
  },
  {
   "cell_type": "code",
   "execution_count": null,
   "id": "61",
   "metadata": {},
   "outputs": [],
   "source": [
    "lr_preds = lr_clf.predict(X_test_transformed)\n",
    "lr_score_test = accuracy_score(lr_preds, y_test)\n",
    "print(f\"Logistic Regression score on test set: {lr_score_test:.3f}\")"
   ]
  },
  {
   "cell_type": "code",
   "execution_count": null,
   "id": "62",
   "metadata": {},
   "outputs": [],
   "source": [
    "from sklearn.svm import SVC\n",
    "\n",
    "svc_param_grid = {\n",
    "    \"C\": [10, 20, 30],\n",
    "    \"kernel\": [\"linear\", \"rbf\"],\n",
    "    \"degree\": [1, 2],\n",
    "    \"gamma\": [0.001, 0.1, 1, 3, 5],\n",
    "    \"tol\": [0.1, 1, 3, 5],\n",
    "}\n",
    "\n",
    "svc_grid_search = GridSearchCV(\n",
    "    estimator=SVC(),\n",
    "    param_grid=svc_param_grid,\n",
    "    scoring=\"accuracy\",\n",
    "    n_jobs=-1,\n",
    "    cv=20,\n",
    "    verbose=1,\n",
    ").fit(X_train_transformed, y_train)"
   ]
  },
  {
   "cell_type": "code",
   "execution_count": null,
   "id": "63",
   "metadata": {},
   "outputs": [],
   "source": [
    "print(svc_grid_search.best_score_)\n",
    "print(svc_grid_search.best_params_)"
   ]
  },
  {
   "cell_type": "code",
   "execution_count": null,
   "id": "64",
   "metadata": {},
   "outputs": [],
   "source": [
    "svc_clf = svc_grid_search.best_estimator_\n",
    "\n",
    "svc_scores = cross_val_score(svc_clf, X_val_transformed, y_val, cv=10, scoring=\"accuracy\")\n",
    "\n",
    "print(svc_scores.mean())"
   ]
  },
  {
   "cell_type": "code",
   "execution_count": null,
   "id": "65",
   "metadata": {},
   "outputs": [],
   "source": [
    "svc_preds = svc_clf.predict(X_test_transformed)\n",
    "svc_score_test = accuracy_score(svc_preds, y_test)\n",
    "print(f\"SVC score on test set: {svc_score_test:.3f}\")"
   ]
  },
  {
   "cell_type": "code",
   "execution_count": null,
   "id": "66",
   "metadata": {},
   "outputs": [],
   "source": [
    "from sklearn.ensemble import VotingClassifier\n",
    "\n",
    "vote_clf = VotingClassifier(\n",
    "    estimators=[\n",
    "        (\"random_forest\", rf_clf),\n",
    "        (\"logistic_regression\", lr_clf),\n",
    "        (\"svc\", svc_clf),\n",
    "    ],\n",
    "    voting=\"hard\",\n",
    ").fit(X_train_transformed, y_train)"
   ]
  },
  {
   "cell_type": "code",
   "execution_count": null,
   "id": "67",
   "metadata": {},
   "outputs": [],
   "source": [
    "vote_scores = cross_val_score(vote_clf, X_val_transformed, y_val, cv=10, scoring=\"accuracy\")\n",
    "\n",
    "print(vote_scores.mean())"
   ]
  },
  {
   "cell_type": "code",
   "execution_count": null,
   "id": "68",
   "metadata": {},
   "outputs": [],
   "source": [
    "vote_preds = vote_clf.predict(X_test_transformed)\n",
    "vote_score_test = accuracy_score(vote_preds, y_test)\n",
    "print(f\"SVC score on test set: {vote_score_test:.3f}\")"
   ]
  },
  {
   "cell_type": "code",
   "execution_count": null,
   "id": "69",
   "metadata": {},
   "outputs": [],
   "source": [
    "X_submit = fitted_pipeline.transform(df_test.to_pandas())"
   ]
  },
  {
   "cell_type": "code",
   "execution_count": null,
   "id": "70",
   "metadata": {},
   "outputs": [],
   "source": [
    "import os\n",
    "\n",
    "RESULTS_DIR = CHAPTER_ROOT / \"results\"\n",
    "\n",
    "if not os.path.isdir(RESULTS_DIR):\n",
    "    os.makedirs(RESULTS_DIR)"
   ]
  },
  {
   "cell_type": "code",
   "execution_count": null,
   "id": "71",
   "metadata": {},
   "outputs": [],
   "source": [
    "passenger_ids = pl.DataFrame({\"PassengerId\": df_test.get_column(\"PassengerId\")})"
   ]
  },
  {
   "cell_type": "code",
   "execution_count": null,
   "id": "72",
   "metadata": {},
   "outputs": [],
   "source": [
    "rf_preds = [i.item() for i in rf_clf.predict(X_submit)]\n",
    "\n",
    "rf_preds = pl.DataFrame({\"Survived\": rf_preds})\n",
    "\n",
    "rf_preds_df = pl.concat(\n",
    "    [passenger_ids, rf_preds],\n",
    "    how=\"horizontal\",\n",
    ")\n",
    "\n",
    "rf_preds_df.write_csv(RESULTS_DIR / \"rf_preds.csv\")"
   ]
  },
  {
   "cell_type": "code",
   "execution_count": null,
   "id": "73",
   "metadata": {},
   "outputs": [],
   "source": [
    "lr_preds = [i.item() for i in lr_clf.predict(X_submit)]\n",
    "\n",
    "lr_preds = pl.DataFrame({\"Survived\": lr_preds})\n",
    "\n",
    "lr_preds_df = pl.concat(\n",
    "    [passenger_ids, lr_preds],\n",
    "    how=\"horizontal\",\n",
    ")\n",
    "\n",
    "lr_preds_df.write_csv(RESULTS_DIR / \"lr_preds.csv\")"
   ]
  },
  {
   "cell_type": "code",
   "execution_count": null,
   "id": "74",
   "metadata": {},
   "outputs": [],
   "source": [
    "svc_preds = [i.item() for i in svc_clf.predict(X_submit)]\n",
    "\n",
    "svc_preds = pl.DataFrame({\"Survived\": svc_preds})\n",
    "\n",
    "svc_preds_df = pl.concat(\n",
    "    [passenger_ids, svc_preds],\n",
    "    how=\"horizontal\",\n",
    ")\n",
    "\n",
    "svc_preds_df.write_csv(RESULTS_DIR / \"svc_preds.csv\")"
   ]
  },
  {
   "cell_type": "code",
   "execution_count": null,
   "id": "75",
   "metadata": {},
   "outputs": [],
   "source": [
    "vote_preds = [i.item() for i in vote_clf.predict(X_submit)]\n",
    "\n",
    "vote_preds = pl.DataFrame({\"Survived\": vote_preds})\n",
    "\n",
    "vote_preds_df = pl.concat(\n",
    "    [passenger_ids, vote_preds],\n",
    "    how=\"horizontal\",\n",
    ")\n",
    "\n",
    "vote_preds_df.write_csv(RESULTS_DIR / \"vote_preds.csv\")"
   ]
  }
 ],
 "metadata": {},
 "nbformat": 4,
 "nbformat_minor": 5
}
